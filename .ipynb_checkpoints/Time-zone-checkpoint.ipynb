{
 "cells": [
  {
   "cell_type": "code",
   "execution_count": 1,
   "metadata": {
    "collapsed": true
   },
   "outputs": [],
   "source": [
    "import numpy as np\n",
    "from numpy.random import  randn\n",
    "from pandas import Series, DataFrame\n",
    "import pandas as pd\n",
    "from datetime import datetime\n",
    "import matplotlib.pylab as plt\n",
    "%matplotlib inline"
   ]
  },
  {
   "cell_type": "markdown",
   "metadata": {},
   "source": [
    "## Time Zone\n",
    "- Localization\n",
    "- Conversion\n",
    "- Data alignment"
   ]
  },
  {
   "cell_type": "code",
   "execution_count": 3,
   "metadata": {
    "collapsed": false
   },
   "outputs": [
    {
     "data": {
      "text/plain": [
       "Timestamp('2017-08-14 09:59:18.448320')"
      ]
     },
     "execution_count": 3,
     "metadata": {},
     "output_type": "execute_result"
    }
   ],
   "source": [
    "stamp = pd.Timestamp('now')\n",
    "stamp"
   ]
  },
  {
   "cell_type": "code",
   "execution_count": 22,
   "metadata": {
    "collapsed": false
   },
   "outputs": [
    {
     "data": {
      "text/plain": [
       "Timestamp('2017-08-14 10:00:00')"
      ]
     },
     "execution_count": 22,
     "metadata": {},
     "output_type": "execute_result"
    }
   ],
   "source": [
    "stamp_naive = pd.Timestamp('2017-08-14 10:00')\n",
    "stamp_naive"
   ]
  },
  {
   "cell_type": "code",
   "execution_count": 35,
   "metadata": {
    "collapsed": false
   },
   "outputs": [
    {
     "data": {
      "text/plain": [
       "Timestamp('2017-08-14 10:00:00+0800', tz='Asia/Shanghai')"
      ]
     },
     "execution_count": 35,
     "metadata": {},
     "output_type": "execute_result"
    }
   ],
   "source": [
    "#### add a naive time stamp with time zone\n",
    "stamp2 =stamp_naive.tz_localize('Asia/Shanghai')\n",
    "stamp2"
   ]
  },
  {
   "cell_type": "code",
   "execution_count": 20,
   "metadata": {
    "collapsed": false
   },
   "outputs": [
    {
     "data": {
      "text/plain": [
       "1502676000000000000"
      ]
     },
     "execution_count": 20,
     "metadata": {},
     "output_type": "execute_result"
    }
   ],
   "source": [
    "# show the utc time :Coordinated Universal Time\n",
    "stamp2.value"
   ]
  },
  {
   "cell_type": "code",
   "execution_count": 36,
   "metadata": {
    "collapsed": false
   },
   "outputs": [
    {
     "data": {
      "text/plain": [
       "Timestamp('2017-08-13 21:00:00-0500', tz='US/Central')"
      ]
     },
     "execution_count": 36,
     "metadata": {},
     "output_type": "execute_result"
    }
   ],
   "source": [
    "#convert a time stamp into another time zone\n",
    "stamp3 =stamp2.tz_convert('US/Central')\n",
    "stamp3"
   ]
  },
  {
   "cell_type": "code",
   "execution_count": 28,
   "metadata": {
    "collapsed": false
   },
   "outputs": [
    {
     "data": {
      "text/plain": [
       "True"
      ]
     },
     "execution_count": 28,
     "metadata": {},
     "output_type": "execute_result"
    }
   ],
   "source": [
    "# we can do boolen comparison with utc value\n",
    "stamp2 == stamp3"
   ]
  },
  {
   "cell_type": "code",
   "execution_count": 23,
   "metadata": {
    "collapsed": false
   },
   "outputs": [
    {
     "data": {
      "text/plain": [
       "Timestamp('2017-08-14 10:00:00-0500', tz='US/Central')"
      ]
     },
     "execution_count": 23,
     "metadata": {},
     "output_type": "execute_result"
    }
   ],
   "source": [
    "#create a time stamp with a time zone\n",
    "stamp = pd.Timestamp('2017-08-14 10:00',tz = 'US/Central')\n",
    "stamp"
   ]
  },
  {
   "cell_type": "code",
   "execution_count": 24,
   "metadata": {
    "collapsed": false
   },
   "outputs": [
    {
     "data": {
      "text/plain": [
       "<DstTzInfo 'US/Central' CDT-1 day, 19:00:00 DST>"
      ]
     },
     "execution_count": 24,
     "metadata": {},
     "output_type": "execute_result"
    }
   ],
   "source": [
    "stamp.tz"
   ]
  },
  {
   "cell_type": "code",
   "execution_count": 33,
   "metadata": {
    "collapsed": false
   },
   "outputs": [
    {
     "data": {
      "text/plain": [
       "2017-08-14 10:00:00     0\n",
       "2017-08-15 10:00:00     1\n",
       "2017-08-16 10:00:00     2\n",
       "2017-08-17 10:00:00     3\n",
       "2017-08-18 10:00:00     4\n",
       "2017-08-19 10:00:00     5\n",
       "2017-08-20 10:00:00     6\n",
       "2017-08-21 10:00:00     7\n",
       "2017-08-22 10:00:00     8\n",
       "2017-08-23 10:00:00     9\n",
       "2017-08-24 10:00:00    10\n",
       "2017-08-25 10:00:00    11\n",
       "2017-08-26 10:00:00    12\n",
       "2017-08-27 10:00:00    13\n",
       "2017-08-28 10:00:00    14\n",
       "2017-08-29 10:00:00    15\n",
       "2017-08-30 10:00:00    16\n",
       "2017-08-31 10:00:00    17\n",
       "2017-09-01 10:00:00    18\n",
       "2017-09-02 10:00:00    19\n",
       "Freq: D, dtype: int32"
      ]
     },
     "execution_count": 33,
     "metadata": {},
     "output_type": "execute_result"
    }
   ],
   "source": [
    "rng = pd.date_range('2017-08-14 10:00',periods= 20)\n",
    "ts =Series(range(20),index = rng)\n",
    "ts"
   ]
  },
  {
   "cell_type": "code",
   "execution_count": 34,
   "metadata": {
    "collapsed": false
   },
   "outputs": [
    {
     "data": {
      "text/plain": [
       "2017-08-14 10:00:00+08:00     0\n",
       "2017-08-15 10:00:00+08:00     1\n",
       "2017-08-16 10:00:00+08:00     2\n",
       "2017-08-17 10:00:00+08:00     3\n",
       "2017-08-18 10:00:00+08:00     4\n",
       "2017-08-19 10:00:00+08:00     5\n",
       "2017-08-20 10:00:00+08:00     6\n",
       "2017-08-21 10:00:00+08:00     7\n",
       "2017-08-22 10:00:00+08:00     8\n",
       "2017-08-23 10:00:00+08:00     9\n",
       "2017-08-24 10:00:00+08:00    10\n",
       "2017-08-25 10:00:00+08:00    11\n",
       "2017-08-26 10:00:00+08:00    12\n",
       "2017-08-27 10:00:00+08:00    13\n",
       "2017-08-28 10:00:00+08:00    14\n",
       "2017-08-29 10:00:00+08:00    15\n",
       "2017-08-30 10:00:00+08:00    16\n",
       "2017-08-31 10:00:00+08:00    17\n",
       "2017-09-01 10:00:00+08:00    18\n",
       "2017-09-02 10:00:00+08:00    19\n",
       "Freq: D, dtype: int32"
      ]
     },
     "execution_count": 34,
     "metadata": {},
     "output_type": "execute_result"
    }
   ],
   "source": [
    "ts.tz_localize('Asia/Shanghai')"
   ]
  },
  {
   "cell_type": "code",
   "execution_count": 37,
   "metadata": {
    "collapsed": false
   },
   "outputs": [
    {
     "data": {
      "text/plain": [
       "2017-08-14 10:00:00+00:00     0\n",
       "2017-08-15 10:00:00+00:00     1\n",
       "2017-08-16 10:00:00+00:00     2\n",
       "2017-08-17 10:00:00+00:00     3\n",
       "2017-08-18 10:00:00+00:00     4\n",
       "2017-08-19 10:00:00+00:00     5\n",
       "2017-08-20 10:00:00+00:00     6\n",
       "2017-08-21 10:00:00+00:00     7\n",
       "2017-08-22 10:00:00+00:00     8\n",
       "2017-08-23 10:00:00+00:00     9\n",
       "2017-08-24 10:00:00+00:00    10\n",
       "2017-08-25 10:00:00+00:00    11\n",
       "2017-08-26 10:00:00+00:00    12\n",
       "2017-08-27 10:00:00+00:00    13\n",
       "2017-08-28 10:00:00+00:00    14\n",
       "2017-08-29 10:00:00+00:00    15\n",
       "2017-08-30 10:00:00+00:00    16\n",
       "2017-08-31 10:00:00+00:00    17\n",
       "2017-09-01 10:00:00+00:00    18\n",
       "2017-09-02 10:00:00+00:00    19\n",
       "Freq: D, dtype: int32"
      ]
     },
     "execution_count": 37,
     "metadata": {},
     "output_type": "execute_result"
    }
   ],
   "source": [
    "ts.tz_localize('utc')"
   ]
  },
  {
   "cell_type": "code",
   "execution_count": 39,
   "metadata": {
    "collapsed": false
   },
   "outputs": [
    {
     "data": {
      "text/plain": [
       "2017-08-13 21:00:00-05:00     0\n",
       "2017-08-14 21:00:00-05:00     1\n",
       "2017-08-15 21:00:00-05:00     2\n",
       "2017-08-16 21:00:00-05:00     3\n",
       "2017-08-17 21:00:00-05:00     4\n",
       "2017-08-18 21:00:00-05:00     5\n",
       "2017-08-19 21:00:00-05:00     6\n",
       "2017-08-20 21:00:00-05:00     7\n",
       "2017-08-21 21:00:00-05:00     8\n",
       "2017-08-22 21:00:00-05:00     9\n",
       "2017-08-23 21:00:00-05:00    10\n",
       "2017-08-24 21:00:00-05:00    11\n",
       "2017-08-25 21:00:00-05:00    12\n",
       "2017-08-26 21:00:00-05:00    13\n",
       "2017-08-27 21:00:00-05:00    14\n",
       "2017-08-28 21:00:00-05:00    15\n",
       "2017-08-29 21:00:00-05:00    16\n",
       "2017-08-30 21:00:00-05:00    17\n",
       "2017-08-31 21:00:00-05:00    18\n",
       "2017-09-01 21:00:00-05:00    19\n",
       "Freq: D, dtype: int32"
      ]
     },
     "execution_count": 39,
     "metadata": {},
     "output_type": "execute_result"
    }
   ],
   "source": [
    "ts.tz_localize('Asia/Shanghai').tz_convert('US/Central')"
   ]
  }
 ],
 "metadata": {
  "kernelspec": {
   "display_name": "Python [conda root]",
   "language": "python",
   "name": "conda-root-py"
  },
  "language_info": {
   "codemirror_mode": {
    "name": "ipython",
    "version": 3
   },
   "file_extension": ".py",
   "mimetype": "text/x-python",
   "name": "python",
   "nbconvert_exporter": "python",
   "pygments_lexer": "ipython3",
   "version": "3.6.0"
  }
 },
 "nbformat": 4,
 "nbformat_minor": 2
}
