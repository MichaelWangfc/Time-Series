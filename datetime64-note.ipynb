{
 "cells": [
  {
   "cell_type": "code",
   "execution_count": 2,
   "metadata": {
    "collapsed": true
   },
   "outputs": [],
   "source": [
    "import numpy as np\n",
    "from pandas import Series, DataFrame\n",
    "import pandas as pd\n",
    "from datetime import datetime"
   ]
  },
  {
   "cell_type": "code",
   "execution_count": null,
   "metadata": {
    "collapsed": true
   },
   "outputs": [],
   "source": []
  },
  {
   "cell_type": "markdown",
   "metadata": {},
   "source": [
    "# datetype: datetime64\n",
    "- Timestamp\n",
    "- DatetimeIndex\n",
    "- date_range\n"
   ]
  },
  {
   "cell_type": "markdown",
   "metadata": {},
   "source": [
    "### scala value: Timestamp"
   ]
  },
  {
   "cell_type": "code",
   "execution_count": 5,
   "metadata": {
    "collapsed": false
   },
   "outputs": [
    {
     "data": {
      "text/plain": [
       "Timestamp('2012-07-17 10:06:45')"
      ]
     },
     "execution_count": 5,
     "metadata": {},
     "output_type": "execute_result"
    }
   ],
   "source": [
    "#generate a Timestamp\n",
    "stamp = pd.Timestamp('17/7/2012 10:06:45')\n",
    "stamp"
   ]
  },
  {
   "cell_type": "code",
   "execution_count": 4,
   "metadata": {
    "collapsed": false
   },
   "outputs": [
    {
     "data": {
      "text/plain": [
       "Timestamp('2012-07-01 10:06:45')"
      ]
     },
     "execution_count": 4,
     "metadata": {},
     "output_type": "execute_result"
    }
   ],
   "source": [
    "# transform a string to datetime object with opt of day first\n",
    "pd.to_datetime('01/7/2012 10:06:45', dayfirst=True)"
   ]
  },
  {
   "cell_type": "code",
   "execution_count": null,
   "metadata": {
    "collapsed": true
   },
   "outputs": [],
   "source": [
    "#change the format\n",
    "stamp.strftime('%m%d%y')"
   ]
  },
  {
   "cell_type": "markdown",
   "metadata": {},
   "source": [
    "### DatetimeIndex"
   ]
  },
  {
   "cell_type": "code",
   "execution_count": 6,
   "metadata": {
    "collapsed": false
   },
   "outputs": [
    {
     "data": {
      "text/plain": [
       "['07/07/2012', '07/09/2012', '07/12/2012']"
      ]
     },
     "execution_count": 6,
     "metadata": {},
     "output_type": "execute_result"
    }
   ],
   "source": [
    "dates = ['07/07/2012', '07/09/2012', '07/12/2012']\n",
    "dates"
   ]
  },
  {
   "cell_type": "code",
   "execution_count": 7,
   "metadata": {
    "collapsed": false
   },
   "outputs": [
    {
     "data": {
      "text/plain": [
       "07/07/2012    0\n",
       "07/09/2012    1\n",
       "07/12/2012    2\n",
       "dtype: int64"
      ]
     },
     "execution_count": 7,
     "metadata": {},
     "output_type": "execute_result"
    }
   ],
   "source": [
    "Series(range(3),index= dates)"
   ]
  },
  {
   "cell_type": "code",
   "execution_count": 12,
   "metadata": {
    "collapsed": false
   },
   "outputs": [
    {
     "data": {
      "text/plain": [
       "2012-07-07    0\n",
       "2012-09-07    1\n",
       "2012-12-07    2\n",
       "dtype: int64"
      ]
     },
     "execution_count": 12,
     "metadata": {},
     "output_type": "execute_result"
    }
   ],
   "source": [
    "# one way: transform the index as datetimeIndex with to_datetime (more flexible)\n",
    "Series(range(3),index= pd.to_datetime(dates,dayfirst=True))"
   ]
  },
  {
   "cell_type": "code",
   "execution_count": 9,
   "metadata": {
    "collapsed": false
   },
   "outputs": [
    {
     "data": {
      "text/plain": [
       "DatetimeIndex(['2012-07-07', '2012-07-09', '2012-07-12'], dtype='datetime64[ns]', freq=None)"
      ]
     },
     "execution_count": 9,
     "metadata": {},
     "output_type": "execute_result"
    }
   ],
   "source": [
    "# another way using the DatetimeIndex method\n",
    "pd.DatetimeIndex(dates,)"
   ]
  },
  {
   "cell_type": "code",
   "execution_count": 11,
   "metadata": {
    "collapsed": false
   },
   "outputs": [
    {
     "data": {
      "text/plain": [
       "2012-07-07    0\n",
       "2012-07-09    1\n",
       "2012-07-12    2\n",
       "dtype: int64"
      ]
     },
     "execution_count": 11,
     "metadata": {},
     "output_type": "execute_result"
    }
   ],
   "source": [
    "Series(range(3),index= pd.DatetimeIndex(dates))"
   ]
  },
  {
   "cell_type": "markdown",
   "metadata": {},
   "source": [
    "## Timeseries indexing"
   ]
  },
  {
   "cell_type": "code",
   "execution_count": 17,
   "metadata": {
    "collapsed": false
   },
   "outputs": [
    {
     "data": {
      "text/plain": [
       "DatetimeIndex(['2017-08-13', '2017-08-14', '2017-08-15', '2017-08-16',\n",
       "               '2017-08-17', '2017-08-18', '2017-08-19', '2017-08-20',\n",
       "               '2017-08-21', '2017-08-22',\n",
       "               ...\n",
       "               '2020-04-29', '2020-04-30', '2020-05-01', '2020-05-02',\n",
       "               '2020-05-03', '2020-05-04', '2020-05-05', '2020-05-06',\n",
       "               '2020-05-07', '2020-05-08'],\n",
       "              dtype='datetime64[ns]', length=1000, freq='D')"
      ]
     },
     "execution_count": 17,
     "metadata": {},
     "output_type": "execute_result"
    }
   ],
   "source": [
    "rng = pd.date_range('2017/08/13',periods=1000)\n",
    "rng"
   ]
  },
  {
   "cell_type": "code",
   "execution_count": 19,
   "metadata": {
    "collapsed": false
   },
   "outputs": [
    {
     "data": {
      "text/plain": [
       "2017-08-13      0\n",
       "2017-08-14      1\n",
       "2017-08-15      2\n",
       "2017-08-16      3\n",
       "2017-08-17      4\n",
       "2017-08-18      5\n",
       "2017-08-19      6\n",
       "2017-08-20      7\n",
       "2017-08-21      8\n",
       "2017-08-22      9\n",
       "2017-08-23     10\n",
       "2017-08-24     11\n",
       "2017-08-25     12\n",
       "2017-08-26     13\n",
       "2017-08-27     14\n",
       "2017-08-28     15\n",
       "2017-08-29     16\n",
       "2017-08-30     17\n",
       "2017-08-31     18\n",
       "2017-09-01     19\n",
       "2017-09-02     20\n",
       "2017-09-03     21\n",
       "2017-09-04     22\n",
       "2017-09-05     23\n",
       "2017-09-06     24\n",
       "2017-09-07     25\n",
       "2017-09-08     26\n",
       "2017-09-09     27\n",
       "2017-09-10     28\n",
       "2017-09-11     29\n",
       "             ... \n",
       "2020-04-09    970\n",
       "2020-04-10    971\n",
       "2020-04-11    972\n",
       "2020-04-12    973\n",
       "2020-04-13    974\n",
       "2020-04-14    975\n",
       "2020-04-15    976\n",
       "2020-04-16    977\n",
       "2020-04-17    978\n",
       "2020-04-18    979\n",
       "2020-04-19    980\n",
       "2020-04-20    981\n",
       "2020-04-21    982\n",
       "2020-04-22    983\n",
       "2020-04-23    984\n",
       "2020-04-24    985\n",
       "2020-04-25    986\n",
       "2020-04-26    987\n",
       "2020-04-27    988\n",
       "2020-04-28    989\n",
       "2020-04-29    990\n",
       "2020-04-30    991\n",
       "2020-05-01    992\n",
       "2020-05-02    993\n",
       "2020-05-03    994\n",
       "2020-05-04    995\n",
       "2020-05-05    996\n",
       "2020-05-06    997\n",
       "2020-05-07    998\n",
       "2020-05-08    999\n",
       "Freq: D, Length: 1000, dtype: int64"
      ]
     },
     "execution_count": 19,
     "metadata": {},
     "output_type": "execute_result"
    }
   ],
   "source": [
    "ts =  Series(range(1000),index= rng)\n",
    "ts"
   ]
  },
  {
   "cell_type": "code",
   "execution_count": 20,
   "metadata": {
    "collapsed": false
   },
   "outputs": [
    {
     "data": {
      "text/plain": [
       "19"
      ]
     },
     "execution_count": 20,
     "metadata": {},
     "output_type": "execute_result"
    }
   ],
   "source": [
    "ts[datetime(2017,9,1)]"
   ]
  },
  {
   "cell_type": "code",
   "execution_count": 21,
   "metadata": {
    "collapsed": false
   },
   "outputs": [
    {
     "data": {
      "text/plain": [
       "19"
      ]
     },
     "execution_count": 21,
     "metadata": {},
     "output_type": "execute_result"
    }
   ],
   "source": [
    "ts[ts.index[19]]"
   ]
  },
  {
   "cell_type": "code",
   "execution_count": 22,
   "metadata": {
    "collapsed": false
   },
   "outputs": [
    {
     "data": {
      "text/plain": [
       "19"
      ]
     },
     "execution_count": 22,
     "metadata": {},
     "output_type": "execute_result"
    }
   ],
   "source": [
    "ts['2017-9-1']"
   ]
  },
  {
   "cell_type": "code",
   "execution_count": 23,
   "metadata": {
    "collapsed": false
   },
   "outputs": [
    {
     "data": {
      "text/plain": [
       "2017-08-13     0\n",
       "2017-08-14     1\n",
       "2017-08-15     2\n",
       "2017-08-16     3\n",
       "2017-08-17     4\n",
       "2017-08-18     5\n",
       "2017-08-19     6\n",
       "2017-08-20     7\n",
       "2017-08-21     8\n",
       "2017-08-22     9\n",
       "2017-08-23    10\n",
       "2017-08-24    11\n",
       "2017-08-25    12\n",
       "2017-08-26    13\n",
       "2017-08-27    14\n",
       "2017-08-28    15\n",
       "2017-08-29    16\n",
       "2017-08-30    17\n",
       "2017-08-31    18\n",
       "2017-09-01    19\n",
       "Freq: D, dtype: int64"
      ]
     },
     "execution_count": 23,
     "metadata": {},
     "output_type": "execute_result"
    }
   ],
   "source": [
    "# selection the index ordered series, if not orderd ,using sort_index first\n",
    "ts[:'2017-9-1']"
   ]
  },
  {
   "cell_type": "code",
   "execution_count": 24,
   "metadata": {
    "collapsed": false
   },
   "outputs": [
    {
     "data": {
      "text/plain": [
       "2017-08-13     0\n",
       "2017-08-14     1\n",
       "2017-08-15     2\n",
       "2017-08-16     3\n",
       "2017-08-17     4\n",
       "2017-08-18     5\n",
       "2017-08-19     6\n",
       "2017-08-20     7\n",
       "2017-08-21     8\n",
       "2017-08-22     9\n",
       "2017-08-23    10\n",
       "2017-08-24    11\n",
       "2017-08-25    12\n",
       "2017-08-26    13\n",
       "2017-08-27    14\n",
       "2017-08-28    15\n",
       "2017-08-29    16\n",
       "2017-08-30    17\n",
       "2017-08-31    18\n",
       "Freq: D, dtype: int64"
      ]
     },
     "execution_count": 24,
     "metadata": {},
     "output_type": "execute_result"
    }
   ],
   "source": [
    "ts['2017-8']"
   ]
  },
  {
   "cell_type": "code",
   "execution_count": 25,
   "metadata": {
    "collapsed": false
   },
   "outputs": [
    {
     "data": {
      "text/plain": [
       "2017-08-13     0\n",
       "2017-08-14     1\n",
       "2017-08-15     2\n",
       "2017-08-16     3\n",
       "2017-08-17     4\n",
       "2017-08-18     5\n",
       "2017-08-19     6\n",
       "2017-08-20     7\n",
       "2017-08-21     8\n",
       "2017-08-22     9\n",
       "2017-08-23    10\n",
       "2017-08-24    11\n",
       "2017-08-25    12\n",
       "2017-08-26    13\n",
       "2017-08-27    14\n",
       "2017-08-28    15\n",
       "2017-08-29    16\n",
       "2017-08-30    17\n",
       "2017-08-31    18\n",
       "2017-09-01    19\n",
       "2017-09-02    20\n",
       "2017-09-03    21\n",
       "2017-09-04    22\n",
       "2017-09-05    23\n",
       "2017-09-06    24\n",
       "2017-09-07    25\n",
       "2017-09-08    26\n",
       "2017-09-09    27\n",
       "2017-09-10    28\n",
       "2017-09-11    29\n",
       "2017-09-12    30\n",
       "2017-09-13    31\n",
       "2017-09-14    32\n",
       "2017-09-15    33\n",
       "2017-09-16    34\n",
       "2017-09-17    35\n",
       "2017-09-18    36\n",
       "2017-09-19    37\n",
       "2017-09-20    38\n",
       "2017-09-21    39\n",
       "2017-09-22    40\n",
       "2017-09-23    41\n",
       "2017-09-24    42\n",
       "2017-09-25    43\n",
       "2017-09-26    44\n",
       "2017-09-27    45\n",
       "2017-09-28    46\n",
       "2017-09-29    47\n",
       "2017-09-30    48\n",
       "Freq: D, dtype: int64"
      ]
     },
     "execution_count": 25,
     "metadata": {},
     "output_type": "execute_result"
    }
   ],
   "source": [
    "ts['2017-8':'2017-9']"
   ]
  },
  {
   "cell_type": "code",
   "execution_count": 26,
   "metadata": {
    "collapsed": true
   },
   "outputs": [],
   "source": [
    "from datetime import timedelta"
   ]
  },
  {
   "cell_type": "code",
   "execution_count": 36,
   "metadata": {
    "collapsed": false
   },
   "outputs": [
    {
     "data": {
      "text/plain": [
       "2017-08-17     4\n",
       "2017-08-18     5\n",
       "2017-08-19     6\n",
       "2017-08-20     7\n",
       "2017-08-21     8\n",
       "2017-08-22     9\n",
       "2017-08-23    10\n",
       "2017-08-24    11\n",
       "2017-08-25    12\n",
       "2017-08-26    13\n",
       "2017-08-27    14\n",
       "Freq: D, dtype: int64"
      ]
     },
     "execution_count": 36,
     "metadata": {},
     "output_type": "execute_result"
    }
   ],
   "source": [
    "start= datetime(2017,8,17)\n",
    "ts[start: start + timedelta(days=10)]"
   ]
  },
  {
   "cell_type": "code",
   "execution_count": 43,
   "metadata": {
    "collapsed": false
   },
   "outputs": [
    {
     "data": {
      "text/plain": [
       "2017-08-17     4\n",
       "2017-08-18     5\n",
       "2017-08-19     6\n",
       "2017-08-20     7\n",
       "2017-08-21     8\n",
       "2017-08-22     9\n",
       "2017-08-23    10\n",
       "2017-08-24    11\n",
       "2017-08-25    12\n",
       "2017-08-26    13\n",
       "2017-08-27    14\n",
       "Freq: D, dtype: int64"
      ]
     },
     "execution_count": 43,
     "metadata": {},
     "output_type": "execute_result"
    }
   ],
   "source": [
    "ts.loc[start:start+timedelta(days= 10)]"
   ]
  },
  {
   "cell_type": "code",
   "execution_count": 44,
   "metadata": {
    "collapsed": false
   },
   "outputs": [
    {
     "data": {
      "text/plain": [
       "2017-08-17     4\n",
       "2017-08-18     5\n",
       "2017-08-19     6\n",
       "2017-08-20     7\n",
       "2017-08-21     8\n",
       "2017-08-22     9\n",
       "2017-08-23    10\n",
       "2017-08-24    11\n",
       "2017-08-25    12\n",
       "2017-08-26    13\n",
       "2017-08-27    14\n",
       "Freq: D, dtype: int64"
      ]
     },
     "execution_count": 44,
     "metadata": {},
     "output_type": "execute_result"
    }
   ],
   "source": [
    "ts.loc[start:start+pd.offsets.Day(10)]"
   ]
  },
  {
   "cell_type": "markdown",
   "metadata": {},
   "source": [
    "### date_range"
   ]
  },
  {
   "cell_type": "code",
   "execution_count": 45,
   "metadata": {
    "collapsed": false
   },
   "outputs": [
    {
     "data": {
      "text/plain": [
       "[Timestamp('2000-01-01 00:00:00', freq='D'),\n",
       " Timestamp('2000-01-02 00:00:00', freq='D'),\n",
       " Timestamp('2000-01-03 00:00:00', freq='D'),\n",
       " Timestamp('2000-01-04 00:00:00', freq='D'),\n",
       " Timestamp('2000-01-05 00:00:00', freq='D')]"
      ]
     },
     "execution_count": 45,
     "metadata": {},
     "output_type": "execute_result"
    }
   ],
   "source": [
    "list(pd.date_range('2000-01-01', periods=5, freq='d'))"
   ]
  },
  {
   "cell_type": "code",
   "execution_count": 47,
   "metadata": {
    "collapsed": false
   },
   "outputs": [
    {
     "data": {
      "text/plain": [
       "[Timestamp('2000-01-31 00:00:00', freq='M'),\n",
       " Timestamp('2000-02-29 00:00:00', freq='M'),\n",
       " Timestamp('2000-03-31 00:00:00', freq='M'),\n",
       " Timestamp('2000-04-30 00:00:00', freq='M'),\n",
       " Timestamp('2000-05-31 00:00:00', freq='M')]"
      ]
     },
     "execution_count": 47,
     "metadata": {},
     "output_type": "execute_result"
    }
   ],
   "source": [
    "# starting on calendar end of the month\n",
    "list(pd.date_range('2000-01-01', periods=5, freq='M'))"
   ]
  },
  {
   "cell_type": "code",
   "execution_count": 63,
   "metadata": {
    "collapsed": false
   },
   "outputs": [
    {
     "data": {
      "text/plain": [
       "[Timestamp('2017-08-31 00:00:00', freq='BM'),\n",
       " Timestamp('2017-09-29 00:00:00', freq='BM'),\n",
       " Timestamp('2017-10-31 00:00:00', freq='BM'),\n",
       " Timestamp('2017-11-30 00:00:00', freq='BM'),\n",
       " Timestamp('2017-12-29 00:00:00', freq='BM')]"
      ]
     },
     "execution_count": 63,
     "metadata": {},
     "output_type": "execute_result"
    }
   ],
   "source": [
    "# starting on BUSSINESS calendar end of the month\n",
    "list(pd.date_range('2017-08-01', periods=5, freq='BM'))"
   ]
  },
  {
   "cell_type": "code",
   "execution_count": 49,
   "metadata": {
    "collapsed": false
   },
   "outputs": [
    {
     "data": {
      "text/plain": [
       "[Timestamp('2000-01-01 00:00:00', freq='MS'),\n",
       " Timestamp('2000-02-01 00:00:00', freq='MS'),\n",
       " Timestamp('2000-03-01 00:00:00', freq='MS'),\n",
       " Timestamp('2000-04-01 00:00:00', freq='MS'),\n",
       " Timestamp('2000-05-01 00:00:00', freq='MS')]"
      ]
     },
     "execution_count": 49,
     "metadata": {},
     "output_type": "execute_result"
    }
   ],
   "source": [
    "# calendar beginning of month\n",
    "list(pd.date_range('2000-01-01', periods=5, freq='MS'))"
   ]
  },
  {
   "cell_type": "code",
   "execution_count": 64,
   "metadata": {
    "collapsed": false
   },
   "outputs": [
    {
     "data": {
      "text/plain": [
       "[Timestamp('2000-01-03 00:00:00', freq='BMS'),\n",
       " Timestamp('2000-02-01 00:00:00', freq='BMS'),\n",
       " Timestamp('2000-03-01 00:00:00', freq='BMS'),\n",
       " Timestamp('2000-04-03 00:00:00', freq='BMS'),\n",
       " Timestamp('2000-05-01 00:00:00', freq='BMS')]"
      ]
     },
     "execution_count": 64,
     "metadata": {},
     "output_type": "execute_result"
    }
   ],
   "source": [
    "# BUSSINESS calendar beginning of month\n",
    "list(pd.date_range('2000-01-01', periods=5, freq='BMS'))"
   ]
  },
  {
   "cell_type": "code",
   "execution_count": 55,
   "metadata": {
    "collapsed": false
   },
   "outputs": [
    {
     "data": {
      "text/plain": [
       "[Timestamp('2017-08-06 00:00:00', freq='W-SUN'),\n",
       " Timestamp('2017-08-13 00:00:00', freq='W-SUN'),\n",
       " Timestamp('2017-08-20 00:00:00', freq='W-SUN'),\n",
       " Timestamp('2017-08-27 00:00:00', freq='W-SUN'),\n",
       " Timestamp('2017-09-03 00:00:00', freq='W-SUN')]"
      ]
     },
     "execution_count": 55,
     "metadata": {},
     "output_type": "execute_result"
    }
   ],
   "source": [
    "# calendar week starting on Sunday\n",
    "list(pd.date_range('2017-08-01', periods=5, freq='W'))"
   ]
  },
  {
   "cell_type": "code",
   "execution_count": 56,
   "metadata": {
    "collapsed": false
   },
   "outputs": [
    {
     "data": {
      "text/plain": [
       "[Timestamp('2017-08-07 00:00:00', freq='W-MON'),\n",
       " Timestamp('2017-08-14 00:00:00', freq='W-MON'),\n",
       " Timestamp('2017-08-21 00:00:00', freq='W-MON'),\n",
       " Timestamp('2017-08-28 00:00:00', freq='W-MON'),\n",
       " Timestamp('2017-09-04 00:00:00', freq='W-MON')]"
      ]
     },
     "execution_count": 56,
     "metadata": {},
     "output_type": "execute_result"
    }
   ],
   "source": [
    "# weely on monday\n",
    "list(pd.date_range('2017-08-01', periods=5, freq='W-MON'))"
   ]
  },
  {
   "cell_type": "code",
   "execution_count": 57,
   "metadata": {
    "collapsed": false
   },
   "outputs": [
    {
     "data": {
      "text/plain": [
       "[Timestamp('2017-10-31 00:00:00', freq='Q-OCT'),\n",
       " Timestamp('2018-01-31 00:00:00', freq='Q-OCT'),\n",
       " Timestamp('2018-04-30 00:00:00', freq='Q-OCT'),\n",
       " Timestamp('2018-07-31 00:00:00', freq='Q-OCT'),\n",
       " Timestamp('2018-10-31 00:00:00', freq='Q-OCT')]"
      ]
     },
     "execution_count": 57,
     "metadata": {},
     "output_type": "execute_result"
    }
   ],
   "source": [
    "# quarterly \n",
    "list(pd.date_range('2017-08-01', periods=5, freq='Q-OCT'))"
   ]
  },
  {
   "cell_type": "code",
   "execution_count": 58,
   "metadata": {
    "collapsed": false
   },
   "outputs": [
    {
     "data": {
      "text/plain": [
       "[Timestamp('2017-12-31 00:00:00', freq='A-DEC'),\n",
       " Timestamp('2018-12-31 00:00:00', freq='A-DEC'),\n",
       " Timestamp('2019-12-31 00:00:00', freq='A-DEC'),\n",
       " Timestamp('2020-12-31 00:00:00', freq='A-DEC'),\n",
       " Timestamp('2021-12-31 00:00:00', freq='A-DEC')]"
      ]
     },
     "execution_count": 58,
     "metadata": {},
     "output_type": "execute_result"
    }
   ],
   "source": [
    "# annuly starting end of year\n",
    "list(pd.date_range('2017-08-01', periods=5, freq='A'))"
   ]
  },
  {
   "cell_type": "code",
   "execution_count": 59,
   "metadata": {
    "collapsed": false
   },
   "outputs": [
    {
     "data": {
      "text/plain": [
       "[Timestamp('2018-02-28 00:00:00', freq='A-FEB'),\n",
       " Timestamp('2019-02-28 00:00:00', freq='A-FEB'),\n",
       " Timestamp('2020-02-29 00:00:00', freq='A-FEB'),\n",
       " Timestamp('2021-02-28 00:00:00', freq='A-FEB'),\n",
       " Timestamp('2022-02-28 00:00:00', freq='A-FEB')]"
      ]
     },
     "execution_count": 59,
     "metadata": {},
     "output_type": "execute_result"
    }
   ],
   "source": [
    "# annuly starting end of Febary in each year\n",
    "list(pd.date_range('2017-08-01', periods=5, freq='A-FEB'))"
   ]
  },
  {
   "cell_type": "code",
   "execution_count": 65,
   "metadata": {
    "collapsed": false
   },
   "outputs": [
    {
     "data": {
      "text/plain": [
       "[Timestamp('2018-02-28 00:00:00', freq='BA-FEB'),\n",
       " Timestamp('2019-02-28 00:00:00', freq='BA-FEB'),\n",
       " Timestamp('2020-02-28 00:00:00', freq='BA-FEB'),\n",
       " Timestamp('2021-02-26 00:00:00', freq='BA-FEB'),\n",
       " Timestamp('2022-02-28 00:00:00', freq='BA-FEB')]"
      ]
     },
     "execution_count": 65,
     "metadata": {},
     "output_type": "execute_result"
    }
   ],
   "source": [
    "# BUSSINESS annuly starting end of Febary in each year\n",
    "list(pd.date_range('2017-08-01', periods=5, freq='BA-FEB'))"
   ]
  },
  {
   "cell_type": "code",
   "execution_count": 66,
   "metadata": {
    "collapsed": false
   },
   "outputs": [
    {
     "data": {
      "text/plain": [
       "[Timestamp('2000-01-14 00:00:00', freq='WOM-2FRI'),\n",
       " Timestamp('2000-02-11 00:00:00', freq='WOM-2FRI'),\n",
       " Timestamp('2000-03-10 00:00:00', freq='WOM-2FRI'),\n",
       " Timestamp('2000-04-14 00:00:00', freq='WOM-2FRI'),\n",
       " Timestamp('2000-05-12 00:00:00', freq='WOM-2FRI')]"
      ]
     },
     "execution_count": 66,
     "metadata": {},
     "output_type": "execute_result"
    }
   ],
   "source": [
    "# The second friday in each month\n",
    "list(pd.date_range('2000-01-01', periods=5, freq='WOM-2FRI'))"
   ]
  }
 ],
 "metadata": {
  "kernelspec": {
   "display_name": "Python [default]",
   "language": "python",
   "name": "python3"
  },
  "language_info": {
   "codemirror_mode": {
    "name": "ipython",
    "version": 3
   },
   "file_extension": ".py",
   "mimetype": "text/x-python",
   "name": "python",
   "nbconvert_exporter": "python",
   "pygments_lexer": "ipython3",
   "version": "3.6.0"
  }
 },
 "nbformat": 4,
 "nbformat_minor": 2
}
