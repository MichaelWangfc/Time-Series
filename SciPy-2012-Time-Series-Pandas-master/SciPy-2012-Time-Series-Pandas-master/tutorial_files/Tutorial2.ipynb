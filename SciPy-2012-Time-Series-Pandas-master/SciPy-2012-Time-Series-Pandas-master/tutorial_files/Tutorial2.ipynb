{
 "cells": [
  {
   "cell_type": "code",
   "execution_count": 2,
   "metadata": {},
   "outputs": [],
   "source": [
    "import numpy as np\n",
    "from pandas import Series, DataFrame\n",
    "import pandas as pd\n",
    "from datetime import datetime\n",
    "# pd.set_printoptions(notebook_repr_html=False)"
   ]
  },
  {
   "cell_type": "code",
   "execution_count": 6,
   "metadata": {},
   "outputs": [
    {
     "data": {
      "text/plain": [
       "Timestamp('2012-07-17 10:06:45')"
      ]
     },
     "execution_count": 6,
     "metadata": {},
     "output_type": "execute_result"
    }
   ],
   "source": [
    "stamp = pd.Timestamp('17/7/2012 10:06:45')\n",
    "stamp"
   ]
  },
  {
   "cell_type": "code",
   "execution_count": 7,
   "metadata": {},
   "outputs": [
    {
     "data": {
      "text/plain": [
       "2012"
      ]
     },
     "execution_count": 7,
     "metadata": {},
     "output_type": "execute_result"
    }
   ],
   "source": [
    "stamp.year"
   ]
  },
  {
   "cell_type": "code",
   "execution_count": 9,
   "metadata": {},
   "outputs": [
    {
     "data": {
      "text/plain": [
       "'071712'"
      ]
     },
     "execution_count": 9,
     "metadata": {},
     "output_type": "execute_result"
    }
   ],
   "source": [
    "stamp.strftime('%m%d%y')"
   ]
  },
  {
   "cell_type": "code",
   "execution_count": 10,
   "metadata": {},
   "outputs": [
    {
     "data": {
      "text/plain": [
       "Timestamp('2012-07-17 10:06:45')"
      ]
     },
     "execution_count": 10,
     "metadata": {},
     "output_type": "execute_result"
    }
   ],
   "source": [
    "pd.Timestamp(pd.to_datetime('17/7/2012 10:06:45', dayfirst=False))"
   ]
  },
  {
   "cell_type": "code",
   "execution_count": 11,
   "metadata": {},
   "outputs": [
    {
     "data": {
      "text/plain": [
       "1342519605000000000L"
      ]
     },
     "execution_count": 11,
     "metadata": {},
     "output_type": "execute_result"
    }
   ],
   "source": [
    "stamp = pd.Timestamp('7/17/2012 10:06:45')\n",
    "stamp.value"
   ]
  },
  {
   "cell_type": "code",
   "execution_count": 12,
   "metadata": {},
   "outputs": [
    {
     "data": {
      "text/plain": [
       "['07/07/2012', '07/09/2012', '07/12/2012']"
      ]
     },
     "execution_count": 12,
     "metadata": {},
     "output_type": "execute_result"
    }
   ],
   "source": [
    "dates = ['07/07/2012', '07/09/2012', '07/12/2012']\n",
    "dates"
   ]
  },
  {
   "cell_type": "code",
   "execution_count": 25,
   "metadata": {},
   "outputs": [
    {
     "data": {
      "text/plain": [
       "[<Timestamp: 2012-07-07 00:00:00>,\n",
       " <Timestamp: 2012-09-07 00:00:00>,\n",
       " <Timestamp: 2012-12-07 00:00:00>]"
      ]
     },
     "execution_count": 25,
     "metadata": {},
     "output_type": "execute_result"
    }
   ],
   "source": [
    "list(pd.to_datetime(dates, dayfirst=True))"
   ]
  },
  {
   "cell_type": "code",
   "execution_count": 28,
   "metadata": {},
   "outputs": [
    {
     "data": {
      "text/plain": [
       "<Timestamp: 2012-07-07 00:00:00>"
      ]
     },
     "execution_count": 28,
     "metadata": {},
     "output_type": "execute_result"
    }
   ],
   "source": [
    "ts = Series(range(3), index=pd.to_datetime(dates))\n",
    "ts.index[0]"
   ]
  },
  {
   "cell_type": "code",
   "execution_count": 29,
   "metadata": {},
   "outputs": [
    {
     "data": {
      "text/plain": [
       "True"
      ]
     },
     "execution_count": 29,
     "metadata": {},
     "output_type": "execute_result"
    }
   ],
   "source": [
    "isinstance(ts.index[0], datetime)"
   ]
  },
  {
   "cell_type": "markdown",
   "metadata": {},
   "source": [
    "Indexing\n",
    "--------"
   ]
  },
  {
   "cell_type": "code",
   "execution_count": 32,
   "metadata": {},
   "outputs": [
    {
     "data": {
      "text/plain": [
       "2012-07-17     0\n",
       "2012-07-18     1\n",
       "2012-07-19     2\n",
       "2012-07-20     3\n",
       "2012-07-21     4\n",
       "2012-07-22     5\n",
       "2012-07-23     6\n",
       "2012-07-24     7\n",
       "2012-07-25     8\n",
       "2012-07-26     9\n",
       "2012-07-27    10\n",
       "2012-07-28    11\n",
       "2012-07-29    12\n",
       "2012-07-30    13\n",
       "2012-07-31    14\n",
       "...\n",
       "2015-03-29    985\n",
       "2015-03-30    986\n",
       "2015-03-31    987\n",
       "2015-04-01    988\n",
       "2015-04-02    989\n",
       "2015-04-03    990\n",
       "2015-04-04    991\n",
       "2015-04-05    992\n",
       "2015-04-06    993\n",
       "2015-04-07    994\n",
       "2015-04-08    995\n",
       "2015-04-09    996\n",
       "2015-04-10    997\n",
       "2015-04-11    998\n",
       "2015-04-12    999\n",
       "Freq: D, Length: 1000"
      ]
     },
     "execution_count": 32,
     "metadata": {},
     "output_type": "execute_result"
    }
   ],
   "source": [
    "rng = pd.date_range('2012-07-17', periods=1000)\n",
    "ts = Series(np.arange(1000), index=rng)\n",
    "ts"
   ]
  },
  {
   "cell_type": "code",
   "execution_count": 41,
   "metadata": {},
   "outputs": [
    {
     "data": {
      "text/plain": [
       "2012-07-17    0\n",
       "2012-07-18    1\n",
       "2012-07-19    2\n",
       "2012-07-20    3\n",
       "2012-07-21    4\n",
       "Freq: D"
      ]
     },
     "execution_count": 41,
     "metadata": {},
     "output_type": "execute_result"
    }
   ],
   "source": [
    "ts[:5]"
   ]
  },
  {
   "cell_type": "code",
   "execution_count": 47,
   "metadata": {},
   "outputs": [
    {
     "data": {
      "text/plain": [
       "2012-07-17     0\n",
       "2012-07-18     1\n",
       "2012-07-19     2\n",
       "2012-07-20     3\n",
       "2012-07-21     4\n",
       "2012-07-22     5\n",
       "2012-07-23     6\n",
       "2012-07-24     7\n",
       "2012-07-25     8\n",
       "2012-07-26     9\n",
       "2012-07-27    10\n",
       "2012-07-28    11\n",
       "2012-07-29    12\n",
       "2012-07-30    13\n",
       "2012-07-31    14\n",
       "...\n",
       "2015-03-29    985\n",
       "2015-03-30    986\n",
       "2015-03-31    987\n",
       "2015-04-01    988\n",
       "2015-04-02    989\n",
       "2015-04-03    990\n",
       "2015-04-04    991\n",
       "2015-04-05    992\n",
       "2015-04-06    993\n",
       "2015-04-07    994\n",
       "2015-04-08    995\n",
       "2015-04-09    996\n",
       "2015-04-10    997\n",
       "2015-04-11    998\n",
       "2015-04-12    999\n",
       "Length: 1000"
      ]
     },
     "execution_count": 47,
     "metadata": {},
     "output_type": "execute_result"
    }
   ],
   "source": [
    "ts2 = ts.take(np.random.permutation(len(ts)))\n",
    "ts2"
   ]
  },
  {
   "cell_type": "code",
   "execution_count": 53,
   "metadata": {},
   "outputs": [
    {
     "data": {
      "text/plain": [
       "2012-09-01    46\n",
       "2012-09-02    47\n",
       "2012-09-03    48\n",
       "2012-09-04    49\n",
       "2012-09-05    50\n",
       "2012-09-06    51\n",
       "2012-09-07    52\n",
       "2012-09-08    53\n",
       "2012-09-09    54\n",
       "2012-09-10    55\n",
       "2012-09-11    56\n",
       "2012-09-12    57\n",
       "2012-09-13    58\n",
       "2012-09-14    59\n",
       "2012-09-15    60\n",
       "...\n",
       "2013-12-17    518\n",
       "2013-12-18    519\n",
       "2013-12-19    520\n",
       "2013-12-20    521\n",
       "2013-12-21    522\n",
       "2013-12-22    523\n",
       "2013-12-23    524\n",
       "2013-12-24    525\n",
       "2013-12-25    526\n",
       "2013-12-26    527\n",
       "2013-12-27    528\n",
       "2013-12-28    529\n",
       "2013-12-29    530\n",
       "2013-12-30    531\n",
       "2013-12-31    532\n",
       "Freq: D, Length: 487"
      ]
     },
     "execution_count": 53,
     "metadata": {},
     "output_type": "execute_result"
    }
   ],
   "source": [
    "ts['2012-09':'2013']"
   ]
  },
  {
   "cell_type": "code",
   "execution_count": 56,
   "metadata": {
    "collapsed": true
   },
   "outputs": [],
   "source": [
    "df = DataFrame(np.arange(4000).reshape((1000, 4)), \n",
    "          index=rng, columns=['Colorado', 'Texas', 'New York', 'Ohio'])"
   ]
  },
  {
   "cell_type": "code",
   "execution_count": 63,
   "metadata": {},
   "outputs": [
    {
     "data": {
      "text/plain": [
       "Colorado    12\n",
       "Texas       13\n",
       "New York    14\n",
       "Ohio        15\n",
       "Name: 2012-07-20"
      ]
     },
     "execution_count": 63,
     "metadata": {},
     "output_type": "execute_result"
    }
   ],
   "source": [
    "df.ix['2012-07-20']"
   ]
  },
  {
   "cell_type": "code",
   "execution_count": 65,
   "metadata": {
    "collapsed": true
   },
   "outputs": [],
   "source": [
    "from datetime import timedelta"
   ]
  },
  {
   "cell_type": "code",
   "execution_count": 68,
   "metadata": {},
   "outputs": [
    {
     "data": {
      "text/plain": [
       "datetime.datetime(2013, 1, 11, 0, 0)"
      ]
     },
     "execution_count": 68,
     "metadata": {},
     "output_type": "execute_result"
    }
   ],
   "source": [
    "start = datetime(2012, 12, 31)\n",
    "start + pd.offsets.Day(11)"
   ]
  },
  {
   "cell_type": "code",
   "execution_count": 82,
   "metadata": {
    "collapsed": true
   },
   "outputs": [],
   "source": []
  },
  {
   "cell_type": "code",
   "execution_count": 84,
   "metadata": {},
   "outputs": [
    {
     "data": {
      "text/plain": [
       "[<Timestamp: 2000-01-14 00:00:00>,\n",
       " <Timestamp: 2000-02-11 00:00:00>,\n",
       " <Timestamp: 2000-03-10 00:00:00>,\n",
       " <Timestamp: 2000-04-14 00:00:00>,\n",
       " <Timestamp: 2000-05-12 00:00:00>]"
      ]
     },
     "execution_count": 84,
     "metadata": {},
     "output_type": "execute_result"
    }
   ],
   "source": [
    "list(pd.date_range('2000-01-01', periods=5, freq='WOM-2FRI'))"
   ]
  },
  {
   "cell_type": "code",
   "execution_count": null,
   "metadata": {
    "collapsed": true
   },
   "outputs": [],
   "source": []
  }
 ],
 "metadata": {
  "kernelspec": {
   "display_name": "Python [default]",
   "language": "python",
   "name": "python2"
  },
  "language_info": {
   "codemirror_mode": {
    "name": "ipython",
    "version": 2
   },
   "file_extension": ".py",
   "mimetype": "text/x-python",
   "name": "python",
   "nbconvert_exporter": "python",
   "pygments_lexer": "ipython2",
   "version": "2.7.13"
  }
 },
 "nbformat": 4,
 "nbformat_minor": 1
}
