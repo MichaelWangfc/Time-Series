{
 "cells": [
  {
   "cell_type": "code",
   "execution_count": 7,
   "metadata": {},
   "outputs": [],
   "source": [
    "import numpy as np\n",
    "from pandas import Series, DataFrame\n",
    "import pandas as pd\n",
    "pd.set_printoptions(notebook_repr_html=False)"
   ]
  },
  {
   "cell_type": "code",
   "execution_count": 14,
   "metadata": {},
   "outputs": [
    {
     "data": {
      "text/plain": [
       "Index([a, b, c, d, e], dtype=object)"
      ]
     },
     "execution_count": 14,
     "metadata": {},
     "output_type": "execute_result"
    }
   ],
   "source": [
    "index = ['a', 'b', 'c', 'd', 'e']\n",
    "\n",
    "s = Series(np.arange(5), index=index)\n",
    "s.index"
   ]
  },
  {
   "cell_type": "code",
   "execution_count": 26,
   "metadata": {},
   "outputs": [
    {
     "data": {
      "text/plain": [
       "2012-07-16    101.5\n",
       "2012-07-17     98.0\n",
       "2012-07-18     95.0\n",
       "2012-07-19     99.0\n",
       "2012-07-20    100.0\n",
       "2012-07-21     92.0\n",
       "Freq: D"
      ]
     },
     "execution_count": 26,
     "metadata": {},
     "output_type": "execute_result"
    }
   ],
   "source": [
    "dates = pd.date_range('2012-07-16', '2012-07-21')\n",
    "atemps = Series([101.5, 98, 95, 99, 100, 92], index=dates)\n",
    "atemps"
   ]
  },
  {
   "cell_type": "code",
   "execution_count": 32,
   "metadata": {},
   "outputs": [],
   "source": [
    "idx = atemps.index[2]"
   ]
  },
  {
   "cell_type": "code",
   "execution_count": 33,
   "metadata": {},
   "outputs": [
    {
     "data": {
      "text/plain": [
       "            Austin  San Diego\n",
       "2012-07-16   101.5         73\n",
       "2012-07-17    98.0         78\n",
       "2012-07-18    95.0         77\n",
       "2012-07-19    99.0         78\n",
       "2012-07-20   100.0         78\n",
       "2012-07-21    92.0         77"
      ]
     },
     "execution_count": 33,
     "metadata": {},
     "output_type": "execute_result"
    }
   ],
   "source": [
    "sdtemps = Series([73, 78, 77, 78, 78, 77], index=dates)\n",
    "temps = DataFrame({'Austin' : atemps, 'San Diego': sdtemps})\n",
    "temps"
   ]
  },
  {
   "cell_type": "code",
   "execution_count": 40,
   "metadata": {},
   "outputs": [
    {
     "data": {
      "text/plain": [
       "            Austin  San Diego  Diff\n",
       "2012-07-16   101.5         73  28.5\n",
       "2012-07-17    98.0         78  20.0\n",
       "2012-07-18    95.0         77  18.0\n",
       "2012-07-19    99.0         78  21.0\n",
       "2012-07-20   100.0         78  22.0\n",
       "2012-07-21    92.0         77  15.0"
      ]
     },
     "execution_count": 40,
     "metadata": {},
     "output_type": "execute_result"
    }
   ],
   "source": [
    "temps['Diff'] = temps['Austin'] - temps['San Diego']\n",
    "temps"
   ]
  },
  {
   "cell_type": "code",
   "execution_count": 41,
   "metadata": {},
   "outputs": [
    {
     "data": {
      "text/plain": [
       "            Austin  San Diego\n",
       "2012-07-16   101.5         73\n",
       "2012-07-17    98.0         78\n",
       "2012-07-18    95.0         77\n",
       "2012-07-19    99.0         78\n",
       "2012-07-20   100.0         78\n",
       "2012-07-21    92.0         77"
      ]
     },
     "execution_count": 41,
     "metadata": {},
     "output_type": "execute_result"
    }
   ],
   "source": [
    "del temps['Diff']\n",
    "temps"
   ]
  },
  {
   "cell_type": "code",
   "execution_count": 47,
   "metadata": {},
   "outputs": [
    {
     "data": {
      "text/plain": [
       "b    1\n",
       "d    3\n",
       "e    4"
      ]
     },
     "execution_count": 47,
     "metadata": {},
     "output_type": "execute_result"
    }
   ],
   "source": [
    "s[['b', 'd', 'e']]"
   ]
  },
  {
   "cell_type": "code",
   "execution_count": 111,
   "metadata": {},
   "outputs": [
    {
     "data": {
      "text/plain": [
       "2012-07-16    101.5\n",
       "2012-07-17     98.0\n",
       "2012-07-18     95.0\n",
       "2012-07-19     99.0\n",
       "2012-07-20    100.0\n",
       "2012-07-21     92.0\n",
       "Freq: D, Name: Austin"
      ]
     },
     "execution_count": 111,
     "metadata": {},
     "output_type": "execute_result"
    }
   ],
   "source": [
    "atemps = temps.Austin\n",
    "sdtemps = temps['San Diego'].drop(temps.index[3])\n",
    "atemps"
   ]
  },
  {
   "cell_type": "code",
   "execution_count": 115,
   "metadata": {},
   "outputs": [
    {
     "data": {
      "text/plain": [
       "            Austin  San Diego\n",
       "2012-07-16       0          0\n",
       "2012-07-17       0          0\n",
       "2012-07-18       0          0\n",
       "2012-07-19       0          0\n",
       "2012-07-20       0          0\n",
       "2012-07-21     NaN        NaN"
      ]
     },
     "execution_count": 115,
     "metadata": {},
     "output_type": "execute_result"
    }
   ],
   "source": [
    "temps - temps[:-1]"
   ]
  },
  {
   "cell_type": "code",
   "execution_count": 118,
   "metadata": {},
   "outputs": [
    {
     "data": {
      "text/plain": [
       "2012-07-16    28.5\n",
       "2012-07-17    20.0\n",
       "2012-07-18    18.0\n",
       "2012-07-19     0.0\n",
       "2012-07-20    22.0\n",
       "2012-07-21    15.0"
      ]
     },
     "execution_count": 118,
     "metadata": {},
     "output_type": "execute_result"
    }
   ],
   "source": [
    "diff = atemps - sdtemps\n",
    "diff.fillna(0)"
   ]
  },
  {
   "cell_type": "code",
   "execution_count": 51,
   "metadata": {},
   "outputs": [
    {
     "data": {
      "text/plain": [
       "            Austin  San Diego\n",
       "2012-07-16   101.5         73\n",
       "2012-07-17    98.0         78\n",
       "2012-07-18    95.0         77\n",
       "2012-07-19    99.0         78\n",
       "2012-07-20   100.0         78\n",
       "2012-07-21    92.0         77"
      ]
     },
     "execution_count": 51,
     "metadata": {},
     "output_type": "execute_result"
    }
   ],
   "source": [
    "temps"
   ]
  },
  {
   "cell_type": "code",
   "execution_count": 56,
   "metadata": {},
   "outputs": [
    {
     "data": {
      "text/plain": [
       "            San Diego  Austin\n",
       "2012-07-17         78    98.0\n",
       "2012-07-16         73   101.5\n",
       "2012-07-18         77    95.0"
      ]
     },
     "execution_count": 56,
     "metadata": {},
     "output_type": "execute_result"
    }
   ],
   "source": [
    "idx = temps.index[2]\n",
    "temps.ix[[1, 0, 2], ['San Diego', 'Austin']]"
   ]
  },
  {
   "cell_type": "code",
   "execution_count": 62,
   "metadata": {},
   "outputs": [
    {
     "data": {
      "text/plain": [
       "array([-0.38345275, -0.55147815, -0.14621328,  0.15497259, -0.07635258])"
      ]
     },
     "execution_count": 62,
     "metadata": {},
     "output_type": "execute_result"
    }
   ],
   "source": [
    "randn(5, 5).mean(1)"
   ]
  },
  {
   "cell_type": "code",
   "execution_count": 64,
   "metadata": {},
   "outputs": [
    {
     "data": {
      "text/plain": [
       "              Austin  San Diego\n",
       "2012-07-16  3.916667  -3.833333\n",
       "2012-07-17  0.416667   1.166667\n",
       "2012-07-18 -2.583333   0.166667\n",
       "2012-07-19  1.416667   1.166667\n",
       "2012-07-20  2.416667   1.166667\n",
       "2012-07-21 -5.583333   0.166667"
      ]
     },
     "execution_count": 64,
     "metadata": {},
     "output_type": "execute_result"
    }
   ],
   "source": [
    "temps - temps.mean()"
   ]
  },
  {
   "cell_type": "code",
   "execution_count": 67,
   "metadata": {},
   "outputs": [
    {
     "data": {
      "text/plain": [
       "            Austin  San Diego\n",
       "2012-07-16   101.5         73"
      ]
     },
     "execution_count": 67,
     "metadata": {},
     "output_type": "execute_result"
    }
   ],
   "source": [
    "temps[temps.Austin > 100]"
   ]
  },
  {
   "cell_type": "code",
   "execution_count": 69,
   "metadata": {},
   "outputs": [
    {
     "name": "stdout",
     "output_type": "stream",
     "text": [
      "date,0,1,2,3\r\n",
      "2000-01-01 00:00:00,1.10376250134,-1.90997889703,-0.808955536115,-2.39262906719\r\n",
      "2000-01-02 00:00:00,1.18891664768,0.581119740849,0.86159734949,-0.213885346486\r\n",
      "2000-01-03 00:00:00,-0.964200042412,0.779764393246,1.82906224532,0.322422339415\r\n",
      "2000-01-04 00:00:00,0.782130444001,-1.72066965573,-1.10824167327,1.23348925791\r\n",
      "2000-01-05 00:00:00,-1.86701699823,-0.528368292754,-2.48830894087,1.48034194215\r\n",
      "2000-01-06 00:00:00,2.56928022646,-0.471901478927,-0.835033249865,-0.532132652067\r\n",
      "2000-01-07 00:00:00,-0.39932258251,-0.676426550985,-0.0112559158931,0.223251821044\r\n",
      "2000-01-08 00:00:00,1.64299299394,1.01341997845,1.43566709724,-0.635861850721\r\n",
      "2000-01-09 00:00:00,1.14730764657,2.13799951538,0.554171306191,-0.25553826194\r\n",
      "2000-01-10 00:00:00,0.933765825769,1.38715526486,-0.560142729978,-0.787082814998\r\n"
     ]
    }
   ],
   "source": [
    "!cat data/test1.csv"
   ]
  },
  {
   "cell_type": "code",
   "execution_count": 73,
   "metadata": {},
   "outputs": [
    {
     "data": {
      "text/plain": [
       "'2000-01-01 00:00:00'"
      ]
     },
     "execution_count": 73,
     "metadata": {},
     "output_type": "execute_result"
    }
   ],
   "source": [
    "df = pd.read_csv('data/test1.csv')\n",
    "df.date[0]"
   ]
  },
  {
   "cell_type": "code",
   "execution_count": 81,
   "metadata": {},
   "outputs": [
    {
     "data": {
      "text/plain": [
       "                   0         1         2         3\n",
       "date                                              \n",
       "2000-01-01  1.103763 -1.909979 -0.808956 -2.392629\n",
       "2000-01-02  1.188917  0.581120  0.861597 -0.213885\n",
       "2000-01-03 -0.964200  0.779764  1.829062  0.322422\n",
       "2000-01-04  0.782130 -1.720670 -1.108242  1.233489\n",
       "2000-01-05 -1.867017 -0.528368 -2.488309  1.480342\n",
       "2000-01-06  2.569280 -0.471901 -0.835033 -0.532133\n",
       "2000-01-07 -0.399323 -0.676427 -0.011256  0.223252\n",
       "2000-01-08  1.642993  1.013420  1.435667 -0.635862\n",
       "2000-01-09  1.147308  2.138000  0.554171 -0.255538\n",
       "2000-01-10  0.933766  1.387155 -0.560143 -0.787083"
      ]
     },
     "execution_count": 81,
     "metadata": {},
     "output_type": "execute_result"
    }
   ],
   "source": [
    "df2 = pd.read_csv('data/test1.csv', parse_dates=['date'], index_col='date')\n",
    "df2"
   ]
  },
  {
   "cell_type": "code",
   "execution_count": 85,
   "metadata": {},
   "outputs": [
    {
     "data": {
      "text/plain": [
       "                   0         1         2         3\n",
       "date                                              \n",
       "2000-01-01  1.103763 -1.909979 -0.808956 -2.392629\n",
       "2000-01-02  1.188917  0.581120  0.861597 -0.213885\n",
       "2000-01-03 -0.964200  0.779764  1.829062  0.322422\n",
       "2000-01-04  0.782130 -1.720670 -1.108242  1.233489\n",
       "2000-01-05 -1.867017 -0.528368 -2.488309  1.480342\n",
       "2000-01-06  2.569280 -0.471901 -0.835033 -0.532133\n",
       "2000-01-07 -0.399323 -0.676427 -0.011256  0.223252\n",
       "2000-01-08  1.642993  1.013420  1.435667 -0.635862\n",
       "2000-01-09  1.147308  2.138000  0.554171 -0.255538\n",
       "2000-01-10  0.933766  1.387155 -0.560143 -0.787083"
      ]
     },
     "execution_count": 85,
     "metadata": {},
     "output_type": "execute_result"
    }
   ],
   "source": [
    "df2"
   ]
  },
  {
   "cell_type": "code",
   "execution_count": 92,
   "metadata": {},
   "outputs": [
    {
     "data": {
      "text/plain": [
       "date\n",
       "2000-01-01    2000-01-01 00:00:00\n",
       "2000-01-02    2000-01-02 00:00:00\n",
       "2000-01-03    2000-01-03 00:00:00\n",
       "2000-01-04    2000-01-04 00:00:00\n",
       "2000-01-05    2000-01-05 00:00:00\n",
       "2000-01-06    2000-01-06 00:00:00\n",
       "2000-01-07    2000-01-07 00:00:00\n",
       "2000-01-08    2000-01-08 00:00:00\n",
       "2000-01-09    2000-01-09 00:00:00\n",
       "2000-01-10    2000-01-10 00:00:00\n",
       "Name: date"
      ]
     },
     "execution_count": 92,
     "metadata": {},
     "output_type": "execute_result"
    }
   ],
   "source": [
    "df2 = pd.read_csv('data/test1.csv', parse_dates=['date'])\n",
    "df3 = df2.set_index('date', drop=False)\n",
    "df3"
   ]
  },
  {
   "cell_type": "code",
   "execution_count": 102,
   "metadata": {},
   "outputs": [
    {
     "data": {
      "text/plain": [
       "             time_date         0         1         2         3\n",
       "0  2000-01-01 00:00:00  1.103763 -1.909979 -0.808956 -2.392629\n",
       "1  2000-01-02 00:00:00  1.188917  0.581120  0.861597 -0.213885\n",
       "2  2000-01-03 00:00:00 -0.964200  0.779764  1.829062  0.322422\n",
       "3  2000-01-04 00:00:00  0.782130 -1.720670 -1.108242  1.233489\n",
       "4  2000-01-05 00:00:00 -1.867017 -0.528368 -2.488309  1.480342\n",
       "5  2000-01-06 00:00:00  2.569280 -0.471901 -0.835033 -0.532133\n",
       "6  2000-01-07 00:00:00 -0.399323 -0.676427 -0.011256  0.223252\n",
       "7  2000-01-08 00:00:00  1.642993  1.013420  1.435667 -0.635862\n",
       "8  2000-01-09 00:00:00  1.147308  2.138000  0.554171 -0.255538\n",
       "9  2000-01-10 00:00:00  0.933766  1.387155 -0.560143 -0.787083"
      ]
     },
     "execution_count": 102,
     "metadata": {},
     "output_type": "execute_result"
    }
   ],
   "source": [
    "pd.read_csv('data/test2.csv', parse_dates=[['time', 'date']])"
   ]
  },
  {
   "cell_type": "code",
   "execution_count": 103,
   "metadata": {},
   "outputs": [],
   "source": [
    "pd.read_csv?"
   ]
  },
  {
   "cell_type": "code",
   "execution_count": null,
   "metadata": {},
   "outputs": [],
   "source": []
  }
 ],
 "metadata": {
  "kernelspec": {
   "display_name": "Python [default]",
   "language": "python",
   "name": "python2"
  },
  "language_info": {
   "codemirror_mode": {
    "name": "ipython",
    "version": 2
   },
   "file_extension": ".py",
   "mimetype": "text/x-python",
   "name": "python",
   "nbconvert_exporter": "python",
   "pygments_lexer": "ipython2",
   "version": "2.7.13"
  }
 },
 "nbformat": 4,
 "nbformat_minor": 1
}
